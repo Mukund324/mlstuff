{
 "cells": [
  {
   "cell_type": "markdown",
   "metadata": {},
   "source": [
    "# Program 1\n"
   ]
  },
  {
   "cell_type": "code",
   "execution_count": 1,
   "metadata": {},
   "outputs": [],
   "source": [
    "# Dataset \n",
    "Datas =[115.3,195.5,120.5,110.2,90.4,105.6,110.9,116.3,122.3,125.4,90.4]"
   ]
  },
  {
   "cell_type": "code",
   "execution_count": 2,
   "metadata": {},
   "outputs": [
    {
     "name": "stdout",
     "output_type": "stream",
     "text": [
      "118.43636363636365\n"
     ]
    }
   ],
   "source": [
    "# Mean\n",
    "\n",
    "def mean(dataset):\n",
    "    return sum(dataset)/len(dataset)\n",
    "print (mean(Datas))"
   ]
  },
  {
   "cell_type": "code",
   "execution_count": 3,
   "metadata": {},
   "outputs": [
    {
     "data": {
      "text/plain": [
       "[90.4,\n",
       " 90.4,\n",
       " 105.6,\n",
       " 110.20000000000002,\n",
       " 110.9,\n",
       " 115.29999999999998,\n",
       " 116.29999999999998,\n",
       " 120.5,\n",
       " 122.30000000000001,\n",
       " 125.4,\n",
       " 195.49999999999997]"
      ]
     },
     "execution_count": 3,
     "metadata": {},
     "output_type": "execute_result"
    }
   ],
   "source": [
    "# Bubble sort\n",
    "\n",
    "for i in range(0,len(Datas)):\n",
    "    for j in range(i,len(Datas)):\n",
    "        if Datas[i]>Datas[j]:\n",
    "            Datas[i]=Datas[i]+Datas[j]\n",
    "            Datas[j]=Datas[i]-Datas[j]\n",
    "            Datas[i]=Datas[i]-Datas[j]\n",
    "Datas"
   ]
  },
  {
   "cell_type": "code",
   "execution_count": 4,
   "metadata": {},
   "outputs": [
    {
     "name": "stdout",
     "output_type": "stream",
     "text": [
      "115.29999999999998\n"
     ]
    }
   ],
   "source": [
    "#Median \n",
    "\n",
    "def median(dataset):\n",
    "    data = sorted(dataset)\n",
    "    index = len(data) // 2\n",
    "    \n",
    "    if len(dataset) % 2 != 0:\n",
    "        return data[index]\n",
    "    \n",
    "    return (data[index - 1] + data[index]) / 2\n",
    "print (median(Datas))"
   ]
  },
  {
   "cell_type": "code",
   "execution_count": 5,
   "metadata": {},
   "outputs": [
    {
     "name": "stdout",
     "output_type": "stream",
     "text": [
      "[90.4]\n"
     ]
    }
   ],
   "source": [
    "# Mode \n",
    "def mode(dataset):\n",
    "    frequency = {}\n",
    "\n",
    "    for value in dataset:\n",
    "        frequency[value] = frequency.get(value, 0) + 1\n",
    "\n",
    "    most_fre = max(frequency.values())\n",
    "\n",
    "    modes = [key for key, value in frequency.items()\n",
    "                      if value == most_fre]\n",
    "    return modes\n",
    "print (mode(Datas))"
   ]
  },
  {
   "cell_type": "code",
   "execution_count": 6,
   "metadata": {},
   "outputs": [
    {
     "name": "stdout",
     "output_type": "stream",
     "text": [
      "26.768987236837145\n",
      "716.57867768595\n"
     ]
    }
   ],
   "source": [
    "# Standard Deviation\n",
    "\n",
    "def Std_dev(list):\n",
    "    n = len(list)\n",
    "    mean = sum(list) / n\n",
    "    var = sum((x - mean)**2 for x in list) / n\n",
    "    std_dev = var ** 0.5\n",
    "    return std_dev,var\n",
    "\n",
    "print (Std_dev(Datas)[0])\n",
    "print (Std_dev(Datas)[1])"
   ]
  },
  {
   "cell_type": "markdown",
   "metadata": {},
   "source": [
    "# Min Max Normalization"
   ]
  },
  {
   "cell_type": "code",
   "execution_count": 7,
   "metadata": {},
   "outputs": [
    {
     "name": "stdout",
     "output_type": "stream",
     "text": [
      "195.49999999999997\n",
      "90.4\n"
     ]
    }
   ],
   "source": [
    "mini = Datas[0]\n",
    "maxi = Datas[-1]\n",
    "print (maxi)\n",
    "print (mini)"
   ]
  },
  {
   "cell_type": "code",
   "execution_count": 8,
   "metadata": {},
   "outputs": [
    {
     "data": {
      "text/plain": [
       "[0.0,\n",
       " 0.0,\n",
       " 0.14462416745956225,\n",
       " 0.18839200761179845,\n",
       " 0.19505233111322556,\n",
       " 0.23691722169362497,\n",
       " 0.24643196955280672,\n",
       " 0.28639391056137015,\n",
       " 0.3035204567078974,\n",
       " 0.3330161750713607,\n",
       " 1.0]"
      ]
     },
     "execution_count": 8,
     "metadata": {},
     "output_type": "execute_result"
    }
   ],
   "source": [
    "norm=[]\n",
    "for value in Datas:\n",
    "    norm.append((value-mini)/(maxi-mini))\n",
    "norm"
   ]
  },
  {
   "cell_type": "markdown",
   "metadata": {},
   "source": [
    "# Standardization"
   ]
  },
  {
   "cell_type": "code",
   "execution_count": 9,
   "metadata": {},
   "outputs": [
    {
     "data": {
      "text/plain": [
       "[-1.0473449513914532,\n",
       " -1.0473449513914532,\n",
       " -0.47952369369803277,\n",
       " -0.30768304992239137,\n",
       " -0.28153338673914213,\n",
       " -0.11716407530157377,\n",
       " -0.07980741361121713,\n",
       " 0.07709056548828139,\n",
       " 0.14433255653092378,\n",
       " 0.26013820777102914,\n",
       " 2.878840192265028]"
      ]
     },
     "execution_count": 9,
     "metadata": {},
     "output_type": "execute_result"
    }
   ],
   "source": [
    "sand=[]\n",
    "for values in Datas:\n",
    "    sand.append((values-mean(Datas))/Std_dev(Datas)[0])\n",
    "sand"
   ]
  }
 ],
 "metadata": {
  "kernelspec": {
   "display_name": "Python 3 (ipykernel)",
   "language": "python",
   "name": "python3"
  },
  "language_info": {
   "codemirror_mode": {
    "name": "ipython",
    "version": 3
   },
   "file_extension": ".py",
   "mimetype": "text/x-python",
   "name": "python",
   "nbconvert_exporter": "python",
   "pygments_lexer": "ipython3",
   "version": "3.9.7"
  }
 },
 "nbformat": 4,
 "nbformat_minor": 4
}
