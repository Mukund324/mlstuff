{
  "cells": [
    {
      "cell_type": "code",
      "execution_count": 4,
      "metadata": {
        "id": "F-YDcpgMxcaS"
      },
      "outputs": [],
      "source": [
        "import numpy as np\n",
        "import pandas as pd\n",
        "import matplotlib.pyplot as plt"
      ]
    },
    {
      "cell_type": "code",
      "execution_count": 5,
      "metadata": {
        "id": "NtnFef4dxjdW"
      },
      "outputs": [],
      "source": [
        "df = pd.read_csv('../data/food_truck_dataset.csv', header=None)"
      ]
    },
    {
      "cell_type": "code",
      "execution_count": 6,
      "metadata": {
        "colab": {
          "base_uri": "https://localhost:8080/",
          "height": 206
        },
        "id": "uDly2V47xwCp",
        "outputId": "683eb805-d5e3-448e-ad88-ff7ce3818e4b"
      },
      "outputs": [
        {
          "data": {
            "text/html": [
              "<div>\n",
              "<style scoped>\n",
              "    .dataframe tbody tr th:only-of-type {\n",
              "        vertical-align: middle;\n",
              "    }\n",
              "\n",
              "    .dataframe tbody tr th {\n",
              "        vertical-align: top;\n",
              "    }\n",
              "\n",
              "    .dataframe thead th {\n",
              "        text-align: right;\n",
              "    }\n",
              "</style>\n",
              "<table border=\"1\" class=\"dataframe\">\n",
              "  <thead>\n",
              "    <tr style=\"text-align: right;\">\n",
              "      <th></th>\n",
              "      <th>0</th>\n",
              "      <th>1</th>\n",
              "    </tr>\n",
              "  </thead>\n",
              "  <tbody>\n",
              "    <tr>\n",
              "      <td>0</td>\n",
              "      <td>6.1101</td>\n",
              "      <td>17.5920</td>\n",
              "    </tr>\n",
              "    <tr>\n",
              "      <td>1</td>\n",
              "      <td>5.5277</td>\n",
              "      <td>9.1302</td>\n",
              "    </tr>\n",
              "    <tr>\n",
              "      <td>2</td>\n",
              "      <td>8.5186</td>\n",
              "      <td>13.6620</td>\n",
              "    </tr>\n",
              "    <tr>\n",
              "      <td>3</td>\n",
              "      <td>7.0032</td>\n",
              "      <td>11.8540</td>\n",
              "    </tr>\n",
              "    <tr>\n",
              "      <td>4</td>\n",
              "      <td>5.8598</td>\n",
              "      <td>6.8233</td>\n",
              "    </tr>\n",
              "  </tbody>\n",
              "</table>\n",
              "</div>"
            ],
            "text/plain": [
              "        0        1\n",
              "0  6.1101  17.5920\n",
              "1  5.5277   9.1302\n",
              "2  8.5186  13.6620\n",
              "3  7.0032  11.8540\n",
              "4  5.8598   6.8233"
            ]
          },
          "execution_count": 6,
          "metadata": {},
          "output_type": "execute_result"
        }
      ],
      "source": [
        "df.head()"
      ]
    },
    {
      "cell_type": "code",
      "execution_count": 7,
      "metadata": {
        "id": "G8l8j8fxxyCG"
      },
      "outputs": [],
      "source": [
        "X = list(df[0])\n",
        "Y = list(df[1])"
      ]
    },
    {
      "cell_type": "code",
      "execution_count": null,
      "metadata": {},
      "outputs": [],
      "source": [
        "## To find the summation of x, y, xy, x^2, y^2"
      ]
    },
    {
      "cell_type": "code",
      "execution_count": 8,
      "metadata": {
        "id": "f8zJIFg8ya_8"
      },
      "outputs": [],
      "source": [
        "n = len(X)\n",
        "x_sum, y_sum, xy_sum, x_sum_sq, y_sum_sq = 0, 0, 0, 0, 0\n",
        "\n",
        "for x, y in zip(X, Y):\n",
        "    x_sum += x\n",
        "    y_sum += y\n",
        "    xy_sum += (x * y)\n",
        "    x_sum_sq += (x ** 2)\n",
        "    y_sum_sq += (y ** 2)\n",
        "\n",
        "x_mean = x_sum / n\n",
        "y_mean = y_sum / n\n",
        "xy_mean = xy_sum / n"
      ]
    },
    {
      "cell_type": "code",
      "execution_count": null,
      "metadata": {},
      "outputs": [],
      "source": [
        "## To find standard deviation of x and y"
      ]
    },
    {
      "cell_type": "code",
      "execution_count": 9,
      "metadata": {
        "id": "4FH8KH5ezZdz"
      },
      "outputs": [],
      "source": [
        "x_std = 0\n",
        "y_std = 0\n",
        "\n",
        "for x, y in zip(X, Y):\n",
        "    x_std += ((x - x_mean) ** 2)\n",
        "    y_std += ((y - y_mean) ** 2)\n",
        "\n",
        "x_std = (x_std / n) ** 0.5\n",
        "y_std = (y_std / n) ** 0.5"
      ]
    },
    {
      "cell_type": "markdown",
      "metadata": {},
      "source": [
        "## To find r (coeff of regression)\n",
        "\n",
        "```\n",
        "r = Exy / sq_root(Ex^2 * Ey^2)\n",
        "``` "
      ]
    },
    {
      "cell_type": "code",
      "execution_count": 10,
      "metadata": {
        "colab": {
          "base_uri": "https://localhost:8080/"
        },
        "id": "7St3R3WS0CFz",
        "outputId": "542adb76-d361-4095-fb98-dc047164b9f0"
      },
      "outputs": [
        {
          "data": {
            "text/plain": [
              "0.9040642647654091"
            ]
          },
          "execution_count": 10,
          "metadata": {},
          "output_type": "execute_result"
        }
      ],
      "source": [
        "# coeff of regression\n",
        "\n",
        "r = xy_sum / ((x_sum_sq * y_sum_sq) ** 0.5)\n",
        "r"
      ]
    },
    {
      "cell_type": "markdown",
      "metadata": {},
      "source": [
        "## To find m (slope)\n",
        "\n",
        "```\n",
        "m = r * (y_std / x_std)\n",
        "```"
      ]
    },
    {
      "cell_type": "code",
      "execution_count": 11,
      "metadata": {
        "colab": {
          "base_uri": "https://localhost:8080/"
        },
        "id": "g2Mo5Vlx0Plm",
        "outputId": "9bf17606-8aec-44dd-aab5-39965bd9baea"
      },
      "outputs": [
        {
          "data": {
            "text/plain": [
              "1.2872819449340192"
            ]
          },
          "execution_count": 11,
          "metadata": {},
          "output_type": "execute_result"
        }
      ],
      "source": [
        "# slope\n",
        "\n",
        "m = r * (y_std / x_std)\n",
        "m"
      ]
    },
    {
      "cell_type": "markdown",
      "metadata": {},
      "source": [
        "## To find c\n",
        "\n",
        "```\n",
        "c = y_mean - (m * x_mean)\n",
        "```"
      ]
    },
    {
      "cell_type": "code",
      "execution_count": 12,
      "metadata": {
        "colab": {
          "base_uri": "https://localhost:8080/"
        },
        "id": "kC_22YVF09Lc",
        "outputId": "23ceba02-5009-4afe-cdf2-adc63b7337e1"
      },
      "outputs": [
        {
          "data": {
            "text/plain": [
              "-4.664828162726223"
            ]
          },
          "execution_count": 12,
          "metadata": {},
          "output_type": "execute_result"
        }
      ],
      "source": [
        "# constant\n",
        "\n",
        "c = y_mean - (m * x_mean)\n",
        "c"
      ]
    },
    {
      "cell_type": "markdown",
      "metadata": {},
      "source": [
        "## To find prediction\n",
        "\n",
        "```\n",
        "y = mx + c\n",
        "```"
      ]
    },
    {
      "cell_type": "code",
      "execution_count": 13,
      "metadata": {
        "colab": {
          "base_uri": "https://localhost:8080/"
        },
        "id": "ldFO2PyR1BY6",
        "outputId": "8e7d5c1f-c63e-4172-90b8-a731342334bc"
      },
      "outputs": [
        {
          "data": {
            "text/plain": [
              "[3.200593249015128,\n",
              " 2.450880244285555,\n",
              " 6.301011813388713,\n",
              " 4.3502647540357,\n",
              " 2.8783865781981426,\n",
              " 6.126327653461165,\n",
              " 4.959406570378477,\n",
              " 6.3776050891122855,\n",
              " 3.6847399885048118,\n",
              " 1.84186715613727]"
            ]
          },
          "execution_count": 13,
          "metadata": {},
          "output_type": "execute_result"
        }
      ],
      "source": [
        "pred = []\n",
        "\n",
        "for x in X:\n",
        "    pred.append(m * x + c)\n",
        "\n",
        "pred[:10]"
      ]
    },
    {
      "cell_type": "code",
      "execution_count": 14,
      "metadata": {},
      "outputs": [
        {
          "data": {
            "image/png": "[encoded data removed]",
            "text/plain": [
              "<Figure size 432x288 with 1 Axes>"
            ]
          },
          "metadata": {
            "needs_background": "light"
          },
          "output_type": "display_data"
        }
      ],
      "source": [
        "plt.scatter(X, Y, color=\"blue\")\n",
        "plt.plot(X, pred, color=\"red\")\n",
        "plt.show()"
      ]
    },
    {
      "cell_type": "code",
      "execution_count": 22,
      "metadata": {},
      "outputs": [
        {
          "name": "stdout",
          "output_type": "stream",
          "text": [
            "Sum Sq Error: 881.3031285968032\n",
            "Sum Sq Reg: 2382.3983383125683\n",
            "Sum Sq Total: 2914.8470516572247\n",
            "Coeff of determination: 0.6976503010352664\n",
            "Cost function (RMSE): 3.0142327819670083\n"
          ]
        }
      ],
      "source": [
        "sse = sum([(Y[i] - pred[i]) ** 2 for i in range(n)])\n",
        "ssr = sum([(pred[i] - y_mean) ** 2 for i in range(n)])\n",
        "sst = sum([(Y[i] - y_mean) ** 2 for i in range(n)])\n",
        "r_sq = 1 - (sse / sst)\n",
        "cost = (sum([(Y[i] - pred[i]) ** 2 for i in range(n)]) / n) ** 0.5\n",
        "\n",
        "print(f\"Sum Sq Error: {sse}\")\n",
        "print(f\"Sum Sq Reg: {ssr}\")\n",
        "print(f\"Sum Sq Total: {sst}\")\n",
        "print(f\"Coeff of determination: {r_sq}\")\n",
        "print(f\"Cost function (RMSE): {cost}\")"
      ]
    },
    {
      "cell_type": "code",
      "execution_count": null,
      "metadata": {
        "id": "zsXeeHHy7Cm_"
      },
      "outputs": [],
      "source": []
    }
  ],
  "metadata": {
    "colab": {
      "name": "ML Lab linear regression.ipynb",
      "provenance": []
    },
    "interpreter": {
      "hash": "1467f57d84b6e92f4a84da548480054ae7f8b20936ad7bf380dd788f3906d999"
    },
    "kernelspec": {
      "display_name": "Python 3.7.4 64-bit ('base': conda)",
      "name": "python3"
    },
    "language_info": {
      "codemirror_mode": {
        "name": "ipython",
        "version": 3
      },
      "file_extension": ".py",
      "mimetype": "text/x-python",
      "name": "python",
      "nbconvert_exporter": "python",
      "pygments_lexer": "ipython3",
      "version": "3.7.4"
    }
  },
  "nbformat": 4,
  "nbformat_minor": 2
}
