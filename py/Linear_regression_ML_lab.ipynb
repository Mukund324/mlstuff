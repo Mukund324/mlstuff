{
  "nbformat": 4,
  "nbformat_minor": 2,
  "metadata": {
    "colab": {
      "name": "ML Lab linear regression.ipynb",
      "provenance": []
    },
    "kernelspec": {
      "name": "python3",
      "display_name": "Python 3.7.4 64-bit ('base': conda)"
    },
    "language_info": {
      "name": "python",
      "version": "3.7.4",
      "mimetype": "text/x-python",
      "codemirror_mode": {
        "name": "ipython",
        "version": 3
      },
      "pygments_lexer": "ipython3",
      "nbconvert_exporter": "python",
      "file_extension": ".py"
    },
    "interpreter": {
      "hash": "1467f57d84b6e92f4a84da548480054ae7f8b20936ad7bf380dd788f3906d999"
    }
  },
  "cells": [
    {
      "cell_type": "code",
      "execution_count": 2,
      "source": [
        "!python --version"
      ],
      "outputs": [
        {
          "output_type": "stream",
          "name": "stdout",
          "text": [
            "Python 3.7.4\n"
          ]
        }
      ],
      "metadata": {
        "colab": {
          "base_uri": "https://localhost:8080/"
        },
        "id": "N2JLP-M6w9GO",
        "outputId": "cb217d9b-c80a-439d-bcb6-9808f9ad388a"
      }
    },
    {
      "cell_type": "code",
      "execution_count": 3,
      "source": [
        "!pip install matplotlib pandas numpy sklearn"
      ],
      "outputs": [
        {
          "output_type": "stream",
          "name": "stdout",
          "text": [
            "Requirement already satisfied: matplotlib in /home/root1/anaconda3/lib/python3.7/site-packages (3.1.1)\n",
            "Requirement already satisfied: pandas in /home/root1/anaconda3/lib/python3.7/site-packages (0.25.1)\n",
            "Requirement already satisfied: numpy in /home/root1/anaconda3/lib/python3.7/site-packages (1.17.2)\n",
            "Requirement already satisfied: sklearn in /home/root1/anaconda3/lib/python3.7/site-packages (0.0)\n",
            "Requirement already satisfied: cycler>=0.10 in /home/root1/anaconda3/lib/python3.7/site-packages (from matplotlib) (0.10.0)\n",
            "Requirement already satisfied: kiwisolver>=1.0.1 in /home/root1/anaconda3/lib/python3.7/site-packages (from matplotlib) (1.1.0)\n",
            "Requirement already satisfied: pyparsing!=2.0.4,!=2.1.2,!=2.1.6,>=2.0.1 in /home/root1/anaconda3/lib/python3.7/site-packages (from matplotlib) (2.4.2)\n",
            "Requirement already satisfied: python-dateutil>=2.1 in /home/root1/anaconda3/lib/python3.7/site-packages (from matplotlib) (2.8.0)\n",
            "Requirement already satisfied: pytz>=2017.2 in /home/root1/anaconda3/lib/python3.7/site-packages (from pandas) (2019.3)\n",
            "Requirement already satisfied: scikit-learn in /home/root1/anaconda3/lib/python3.7/site-packages (from sklearn) (1.0.1)\n",
            "Requirement already satisfied: six in /home/root1/anaconda3/lib/python3.7/site-packages (from cycler>=0.10->matplotlib) (1.12.0)\n",
            "Requirement already satisfied: setuptools in /home/root1/anaconda3/lib/python3.7/site-packages (from kiwisolver>=1.0.1->matplotlib) (41.4.0)\n",
            "Requirement already satisfied: threadpoolctl>=2.0.0 in /home/root1/anaconda3/lib/python3.7/site-packages (from scikit-learn->sklearn) (3.0.0)\n",
            "Requirement already satisfied: scipy>=1.1.0 in /home/root1/anaconda3/lib/python3.7/site-packages (from scikit-learn->sklearn) (1.3.1)\n",
            "Requirement already satisfied: joblib>=0.11 in /home/root1/anaconda3/lib/python3.7/site-packages (from scikit-learn->sklearn) (0.13.2)\n"
          ]
        }
      ],
      "metadata": {
        "colab": {
          "base_uri": "https://localhost:8080/"
        },
        "id": "7GVh8eU6xTxr",
        "outputId": "0ebc5aeb-7b3d-46e8-b28c-1e680c3b8d3f"
      }
    },
    {
      "cell_type": "code",
      "execution_count": 4,
      "source": [
        "import numpy as np\n",
        "import pandas as pd\n",
        "import matplotlib.pyplot as plt"
      ],
      "outputs": [],
      "metadata": {
        "id": "F-YDcpgMxcaS"
      }
    },
    {
      "cell_type": "code",
      "execution_count": 5,
      "source": [
        "df = pd.read_csv('../data/food_truck_dataset.csv', header=None)"
      ],
      "outputs": [],
      "metadata": {
        "id": "NtnFef4dxjdW"
      }
    },
    {
      "cell_type": "code",
      "execution_count": 6,
      "source": [
        "df.head()"
      ],
      "outputs": [
        {
          "output_type": "execute_result",
          "data": {
            "text/html": [
              "<div>\n",
              "<style scoped>\n",
              "    .dataframe tbody tr th:only-of-type {\n",
              "        vertical-align: middle;\n",
              "    }\n",
              "\n",
              "    .dataframe tbody tr th {\n",
              "        vertical-align: top;\n",
              "    }\n",
              "\n",
              "    .dataframe thead th {\n",
              "        text-align: right;\n",
              "    }\n",
              "</style>\n",
              "<table border=\"1\" class=\"dataframe\">\n",
              "  <thead>\n",
              "    <tr style=\"text-align: right;\">\n",
              "      <th></th>\n",
              "      <th>0</th>\n",
              "      <th>1</th>\n",
              "    </tr>\n",
              "  </thead>\n",
              "  <tbody>\n",
              "    <tr>\n",
              "      <td>0</td>\n",
              "      <td>6.1101</td>\n",
              "      <td>17.5920</td>\n",
              "    </tr>\n",
              "    <tr>\n",
              "      <td>1</td>\n",
              "      <td>5.5277</td>\n",
              "      <td>9.1302</td>\n",
              "    </tr>\n",
              "    <tr>\n",
              "      <td>2</td>\n",
              "      <td>8.5186</td>\n",
              "      <td>13.6620</td>\n",
              "    </tr>\n",
              "    <tr>\n",
              "      <td>3</td>\n",
              "      <td>7.0032</td>\n",
              "      <td>11.8540</td>\n",
              "    </tr>\n",
              "    <tr>\n",
              "      <td>4</td>\n",
              "      <td>5.8598</td>\n",
              "      <td>6.8233</td>\n",
              "    </tr>\n",
              "  </tbody>\n",
              "</table>\n",
              "</div>"
            ],
            "text/plain": [
              "        0        1\n",
              "0  6.1101  17.5920\n",
              "1  5.5277   9.1302\n",
              "2  8.5186  13.6620\n",
              "3  7.0032  11.8540\n",
              "4  5.8598   6.8233"
            ]
          },
          "metadata": {},
          "execution_count": 6
        }
      ],
      "metadata": {
        "colab": {
          "base_uri": "https://localhost:8080/",
          "height": 206
        },
        "id": "uDly2V47xwCp",
        "outputId": "683eb805-d5e3-448e-ad88-ff7ce3818e4b"
      }
    },
    {
      "cell_type": "code",
      "execution_count": 7,
      "source": [
        "X = list(df[0])\n",
        "Y = list(df[1])"
      ],
      "outputs": [],
      "metadata": {
        "id": "G8l8j8fxxyCG"
      }
    },
    {
      "cell_type": "markdown",
      "source": [
        "## To find the summation of x, y, xy, x^2, y^2"
      ],
      "metadata": {}
    },
    {
      "cell_type": "code",
      "execution_count": 8,
      "source": [
        "n = len(X)\n",
        "x_sum, y_sum, xy_sum, x_sum_sq, y_sum_sq = 0, 0, 0, 0, 0\n",
        "\n",
        "for x, y in zip(X, Y):\n",
        "    x_sum += x\n",
        "    y_sum += y\n",
        "    xy_sum += (x * y)\n",
        "    x_sum_sq += (x ** 2)\n",
        "    y_sum_sq += (y ** 2)\n",
        "\n",
        "x_mean = x_sum / n\n",
        "y_mean = y_sum / n\n",
        "xy_mean = xy_sum / n"
      ],
      "outputs": [],
      "metadata": {
        "id": "f8zJIFg8ya_8"
      }
    },
    {
      "cell_type": "markdown",
      "source": [
        "## To find standard deviation of x and y"
      ],
      "metadata": {}
    },
    {
      "cell_type": "code",
      "execution_count": 9,
      "source": [
        "x_std = 0\n",
        "y_std = 0\n",
        "\n",
        "for x, y in zip(X, Y):\n",
        "    x_std += ((x - x_mean) ** 2)\n",
        "    y_std += ((y - y_mean) ** 2)\n",
        "\n",
        "x_std = (x_std / n) ** 0.5\n",
        "y_std = (y_std / n) ** 0.5"
      ],
      "outputs": [],
      "metadata": {
        "id": "4FH8KH5ezZdz"
      }
    },
    {
      "cell_type": "markdown",
      "source": [
        "## To find r (coeff of regression)\n",
        "\n",
        "```\n",
        "r = Exy / sq_root(Ex^2 * Ey^2)\n",
        "``` "
      ],
      "metadata": {}
    },
    {
      "cell_type": "code",
      "execution_count": 10,
      "source": [
        "# coeff of regression\n",
        "\n",
        "r = xy_sum / ((x_sum_sq * y_sum_sq) ** 0.5)\n",
        "r"
      ],
      "outputs": [
        {
          "output_type": "execute_result",
          "data": {
            "text/plain": [
              "0.9040642647654091"
            ]
          },
          "metadata": {},
          "execution_count": 10
        }
      ],
      "metadata": {
        "colab": {
          "base_uri": "https://localhost:8080/"
        },
        "id": "7St3R3WS0CFz",
        "outputId": "542adb76-d361-4095-fb98-dc047164b9f0"
      }
    },
    {
      "cell_type": "markdown",
      "source": [
        "## To find m (slope)\n",
        "\n",
        "```\n",
        "m = r * (y_std / x_std)\n",
        "```"
      ],
      "metadata": {}
    },
    {
      "cell_type": "code",
      "execution_count": 11,
      "source": [
        "# slope\n",
        "\n",
        "m = r * (y_std / x_std)\n",
        "m"
      ],
      "outputs": [
        {
          "output_type": "execute_result",
          "data": {
            "text/plain": [
              "1.2872819449340192"
            ]
          },
          "metadata": {},
          "execution_count": 11
        }
      ],
      "metadata": {
        "colab": {
          "base_uri": "https://localhost:8080/"
        },
        "id": "g2Mo5Vlx0Plm",
        "outputId": "9bf17606-8aec-44dd-aab5-39965bd9baea"
      }
    },
    {
      "cell_type": "markdown",
      "source": [
        "## To find c\n",
        "\n",
        "```\n",
        "c = y_mean - (m * x_mean)\n",
        "```"
      ],
      "metadata": {}
    },
    {
      "cell_type": "code",
      "execution_count": 12,
      "source": [
        "# constant\n",
        "\n",
        "c = y_mean - (m * x_mean)\n",
        "c"
      ],
      "outputs": [
        {
          "output_type": "execute_result",
          "data": {
            "text/plain": [
              "-4.664828162726223"
            ]
          },
          "metadata": {},
          "execution_count": 12
        }
      ],
      "metadata": {
        "colab": {
          "base_uri": "https://localhost:8080/"
        },
        "id": "kC_22YVF09Lc",
        "outputId": "23ceba02-5009-4afe-cdf2-adc63b7337e1"
      }
    },
    {
      "cell_type": "markdown",
      "source": [
        "## To find prediction\n",
        "\n",
        "```\n",
        "y = mx + c\n",
        "```"
      ],
      "metadata": {}
    },
    {
      "cell_type": "code",
      "execution_count": 13,
      "source": [
        "pred = []\n",
        "\n",
        "for x in X:\n",
        "    pred.append(m * x + c)\n",
        "\n",
        "pred[:10]"
      ],
      "outputs": [
        {
          "output_type": "execute_result",
          "data": {
            "text/plain": [
              "[3.200593249015128,\n",
              " 2.450880244285555,\n",
              " 6.301011813388713,\n",
              " 4.3502647540357,\n",
              " 2.8783865781981426,\n",
              " 6.126327653461165,\n",
              " 4.959406570378477,\n",
              " 6.3776050891122855,\n",
              " 3.6847399885048118,\n",
              " 1.84186715613727]"
            ]
          },
          "metadata": {},
          "execution_count": 13
        }
      ],
      "metadata": {
        "colab": {
          "base_uri": "https://localhost:8080/"
        },
        "id": "ldFO2PyR1BY6",
        "outputId": "8e7d5c1f-c63e-4172-90b8-a731342334bc"
      }
    },
    {
      "cell_type": "code",
      "execution_count": 14,
      "source": [
        "plt.scatter(X, Y, color=\"blue\")\n",
        "plt.plot(X, pred, color=\"red\")\n",
        "plt.show()"
      ],
      "outputs": [
        {
          "output_type": "display_data",
          "data": {
            "image/png": "[encoded data removed]",
            "text/plain": [
              "<Figure size 432x288 with 1 Axes>"
            ]
          },
          "metadata": {
            "needs_background": "light"
          }
        }
      ],
      "metadata": {}
    },
    {
      "cell_type": "code",
      "execution_count": 22,
      "source": [
        "sse = sum([(Y[i] - pred[i]) ** 2 for i in range(n)])\n",
        "ssr = sum([(pred[i] - y_mean) ** 2 for i in range(n)])\n",
        "sst = sum([(Y[i] - y_mean) ** 2 for i in range(n)])\n",
        "r_sq = 1 - (sse / sst)\n",
        "cost = (sum([(Y[i] - pred[i]) ** 2 for i in range(n)]) / n) ** 0.5\n",
        "\n",
        "print(f\"Sum Sq Error: {sse}\")\n",
        "print(f\"Sum Sq Reg: {ssr}\")\n",
        "print(f\"Sum Sq Total: {sst}\")\n",
        "print(f\"Coeff of determination: {r_sq}\")\n",
        "print(f\"Cost function (RMSE): {cost}\")"
      ],
      "outputs": [
        {
          "output_type": "stream",
          "name": "stdout",
          "text": [
            "Sum Sq Error: 881.3031285968032\n",
            "Sum Sq Reg: 2382.3983383125683\n",
            "Sum Sq Total: 2914.8470516572247\n",
            "Coeff of determination: 0.6976503010352664\n",
            "Cost function (RMSE): 3.0142327819670083\n"
          ]
        }
      ],
      "metadata": {}
    },
    {
      "cell_type": "markdown",
      "source": [
        "## Gradient Descent (maybe not needed)"
      ],
      "metadata": {}
    },
    {
      "cell_type": "code",
      "execution_count": 16,
      "source": [
        "l_rate = 0.001\n",
        "\n",
        "def grad_des(m, c):\n",
        "    pred = []\n",
        "    \n",
        "    for x in X:\n",
        "        pred.append(m * x + c)\n",
        "\n",
        "    m_grad = (-2 / n) * sum([x * (y - pred[i]) for i, (x, y) in enumerate(zip(X, Y))])\n",
        "    c_grad = (-2 / n) * sum([(y - pred[i]) for i, (_, y) in enumerate(zip(X, Y))])\n",
        "\n",
        "    m -= (l_rate * m_grad)\n",
        "    c -= (l_rate * c_grad)\n",
        "\n",
        "    return m, c, pred"
      ],
      "outputs": [],
      "metadata": {
        "id": "cnRrHcnb3COk"
      }
    },
    {
      "cell_type": "code",
      "execution_count": 17,
      "source": [
        "res = []\n",
        "\n",
        "for _ in range(100000):\n",
        "    m, c, res = grad_des(m, c)\n",
        "\n",
        "    # print(m, c)"
      ],
      "outputs": [],
      "metadata": {
        "id": "67KdGzmk1rBR"
      }
    },
    {
      "cell_type": "code",
      "execution_count": 18,
      "source": [
        "plt.scatter(X, Y, color=\"blue\")\n",
        "plt.plot(X, res, color=\"red\")\n",
        "plt.show()"
      ],
      "outputs": [
        {
          "output_type": "display_data",
          "data": {
            "image/png": "[encoded data removed]",
            "text/plain": [
              "<Figure size 432x288 with 1 Axes>"
            ]
          },
          "metadata": {
            "needs_background": "light"
          }
        }
      ],
      "metadata": {
        "colab": {
          "base_uri": "https://localhost:8080/",
          "height": 266
        },
        "id": "ZO9d92gC4LPe",
        "outputId": "bdb99b62-ba02-437b-fadb-f792f05ccbb6"
      }
    },
    {
      "cell_type": "code",
      "execution_count": 19,
      "source": [
        "sse = sum([(Y[i] - res[i]) ** 2 for i in range(n)])\n",
        "ssr = sum([(res[i] - y_mean) ** 2 for i in range(n)])\n",
        "sst = sum([(Y[i] - y_mean) ** 2 for i in range(n)])\n",
        "r_sq = 1 - (sse / sst)\n",
        "\n",
        "print(f\"Sum Sq Error / cost: {sse}\")\n",
        "print(f\"Sum Sq Reg: {ssr}\")\n",
        "print(f\"Sum Sq Total: {sst}\")\n",
        "print(f\"Coeff of determination: {r_sq}\")"
      ],
      "outputs": [
        {
          "output_type": "stream",
          "name": "stdout",
          "text": [
            "Sum Sq Error / cost: 868.5324469391848\n",
            "Sum Sq Reg: 2046.314604718261\n",
            "Sum Sq Total: 2914.8470516572247\n",
            "Coeff of determination: 0.7020315537841397\n"
          ]
        }
      ],
      "metadata": {
        "colab": {
          "base_uri": "https://localhost:8080/"
        },
        "id": "-c9HOJP14kpE",
        "outputId": "fcb89596-3d5c-45f0-dc28-a9ca15c865e8"
      }
    },
    {
      "cell_type": "code",
      "execution_count": null,
      "source": [],
      "outputs": [],
      "metadata": {
        "id": "zsXeeHHy7Cm_"
      }
    }
  ]
}