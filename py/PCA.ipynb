{
 "cells": [
  {
   "cell_type": "code",
   "execution_count": null,
   "id": "61292571",
   "metadata": {},
   "outputs": [],
   "source": [
    "import pandas as pd\n",
    "from matplotlib import pyplot as plt\n",
    "import numpy as np\n",
    "from scipy.special import expit\n",
    "from numpy.linalg import eig"
   ]
  },
  {
   "cell_type": "code",
   "execution_count": null,
   "id": "30aa9a13",
   "metadata": {},
   "outputs": [],
   "source": [
    "df = pd.read_csv(\"Iris.csv\")"
   ]
  },
  {
   "cell_type": "code",
   "execution_count": null,
   "id": "42959fa1",
   "metadata": {},
   "outputs": [],
   "source": [
    "df.head()"
   ]
  },
  {
   "cell_type": "code",
   "execution_count": null,
   "id": "5fb6a1a5",
   "metadata": {},
   "outputs": [],
   "source": [
    "x = df.iloc[:,1]"
   ]
  },
  {
   "cell_type": "code",
   "execution_count": null,
   "id": "beacfe62",
   "metadata": {},
   "outputs": [],
   "source": [
    "y = df.iloc[:,2]"
   ]
  },
  {
   "cell_type": "code",
   "execution_count": null,
   "id": "fc938ddb",
   "metadata": {},
   "outputs": [],
   "source": [
    "x_mean = 0;\n",
    "y_mean = 0;\n",
    "n = len(x)\n",
    "for i in range(n):\n",
    "    x_mean += x[i]\n",
    "    y_mean += y[i]\n",
    "x_mean = x_mean / n\n",
    "y_mean = y_mean / n"
   ]
  },
  {
   "cell_type": "code",
   "execution_count": null,
   "id": "aad7c9fa",
   "metadata": {},
   "outputs": [],
   "source": [
    "cov_xy = 0;\n",
    "cov_xx = 0;\n",
    "cov_yy = 0;\n",
    "\n",
    "for i in range(n):\n",
    "    cov_xy += ( (x[i] - x_mean) * (y[i] - y_mean) )\n",
    "    cov_xx += ( (x[i] - x_mean) * (x[i] - x_mean) )\n",
    "    cov_yy += ( (y[i] - y_mean) * (y[i] - y_mean) )\n",
    "cov_xy = cov_xy / ( n - 1 )\n",
    "cov_xx = cov_xx / ( n - 1 )\n",
    "cov_yy = cov_yy / ( n - 1 )"
   ]
  },
  {
   "cell_type": "code",
   "execution_count": null,
   "id": "b888568d",
   "metadata": {},
   "outputs": [],
   "source": [
    "C = [ [cov_xx, cov_xy], [cov_xy, cov_yy] ]"
   ]
  },
  {
   "cell_type": "code",
   "execution_count": null,
   "id": "5382e8d5",
   "metadata": {},
   "outputs": [],
   "source": [
    "values, vectors = eig(C)"
   ]
  },
  {
   "cell_type": "code",
   "execution_count": null,
   "id": "e8a65294",
   "metadata": {},
   "outputs": [],
   "source": [
    "max_val = values[0]\n",
    "max_i = 0\n",
    "for i in range(len(values)):\n",
    "    if max_val < values[i]:\n",
    "        max_i = i\n",
    "        max_val = values[i]\n",
    "eig_value = values[max_i]\n",
    "eig_vector = vectors[:,max_i]\n",
    "V = eig_vector"
   ]
  },
  {
   "cell_type": "code",
   "execution_count": null,
   "id": "cf7fce5a",
   "metadata": {},
   "outputs": [],
   "source": [
    "Y = []\n",
    "for i in range(n):\n",
    "    Y.append(( x[i] * V[0] ) + ( y[i] * V[1] ) )\n",
    "red = pd.DataFrame(Y)\n",
    "red"
   ]
  },
  {
   "cell_type": "code",
   "execution_count": null,
   "id": "a0492676",
   "metadata": {},
   "outputs": [],
   "source": [
    "## Using inbuilt Function"
   ]
  },
  {
   "cell_type": "code",
   "execution_count": null,
   "id": "c2b8ae9e",
   "metadata": {},
   "outputs": [],
   "source": [
    "X = df.iloc[:,1:5]\n",
    "X\n",
    "Y = df.iloc[:,5]\n",
    "Y"
   ]
  },
  {
   "cell_type": "code",
   "execution_count": null,
   "id": "7ad5909f",
   "metadata": {},
   "outputs": [],
   "source": [
    "from sklearn.decomposition import PCA\n",
    "pca = PCA(n_components = 2)\n",
    "\n",
    "principalComponents = pca.fit_transform(X)\n",
    "principalDF = pd.DataFrame(data = principalComponents, columns = ['PCA1', 'PCA2'])\n",
    "finalDF = pd.concat([principalDF, df[['Species']]], axis = 1)\n",
    "finalDF"
   ]
  }
 ],
 "metadata": {
  "kernelspec": {
   "display_name": "Python 3 (ipykernel)",
   "language": "python",
   "name": "python3"
  },
  "language_info": {
   "codemirror_mode": {
    "name": "ipython",
    "version": 3
   },
   "file_extension": ".py",
   "mimetype": "text/x-python",
   "name": "python",
   "nbconvert_exporter": "python",
   "pygments_lexer": "ipython3",
   "version": "3.9.7"
  }
 },
 "nbformat": 4,
 "nbformat_minor": 5
}
