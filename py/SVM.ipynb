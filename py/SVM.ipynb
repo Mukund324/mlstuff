{
 "cells": [
  {
   "cell_type": "code",
   "execution_count": 1,
   "id": "88649c7a",
   "metadata": {
    "colab": {
     "base_uri": "https://localhost:8080/"
    },
    "id": "88649c7a",
    "outputId": "21d0a499-3312-4212-a5e8-14188eb81842"
   },
   "outputs": [],
   "source": [
    "from sklearn.svm import SVC\n",
    "from sklearn import svm\n",
    "import numpy as np\n",
    "from sklearn.metrics import accuracy_score, confusion_matrix, classification_report\n",
    "import warnings \n",
    "warnings.filterwarnings('ignore')"
   ]
  },
  {
   "cell_type": "code",
   "execution_count": 2,
   "id": "92dcf041",
   "metadata": {
    "colab": {
     "base_uri": "https://localhost:8080/",
     "height": 206
    },
    "id": "92dcf041",
    "outputId": "1456cb81-6a1c-4da2-9e42-35bd2886171d"
   },
   "outputs": [
    {
     "data": {
      "text/html": [
       "<div>\n",
       "<style scoped>\n",
       "    .dataframe tbody tr th:only-of-type {\n",
       "        vertical-align: middle;\n",
       "    }\n",
       "\n",
       "    .dataframe tbody tr th {\n",
       "        vertical-align: top;\n",
       "    }\n",
       "\n",
       "    .dataframe thead th {\n",
       "        text-align: right;\n",
       "    }\n",
       "</style>\n",
       "<table border=\"1\" class=\"dataframe\">\n",
       "  <thead>\n",
       "    <tr style=\"text-align: right;\">\n",
       "      <th></th>\n",
       "      <th>Id</th>\n",
       "      <th>RI</th>\n",
       "      <th>Na</th>\n",
       "      <th>Mg</th>\n",
       "      <th>Al</th>\n",
       "      <th>Si</th>\n",
       "      <th>K</th>\n",
       "      <th>Ca</th>\n",
       "      <th>Ba</th>\n",
       "      <th>Fe</th>\n",
       "      <th>Type</th>\n",
       "    </tr>\n",
       "  </thead>\n",
       "  <tbody>\n",
       "    <tr>\n",
       "      <th>0</th>\n",
       "      <td>1</td>\n",
       "      <td>1.52101</td>\n",
       "      <td>13.64</td>\n",
       "      <td>4.49</td>\n",
       "      <td>1.10</td>\n",
       "      <td>71.78</td>\n",
       "      <td>0.06</td>\n",
       "      <td>8.75</td>\n",
       "      <td>0.0</td>\n",
       "      <td>0.0</td>\n",
       "      <td>1</td>\n",
       "    </tr>\n",
       "    <tr>\n",
       "      <th>1</th>\n",
       "      <td>2</td>\n",
       "      <td>1.51761</td>\n",
       "      <td>13.89</td>\n",
       "      <td>3.60</td>\n",
       "      <td>1.36</td>\n",
       "      <td>72.73</td>\n",
       "      <td>0.48</td>\n",
       "      <td>7.83</td>\n",
       "      <td>0.0</td>\n",
       "      <td>0.0</td>\n",
       "      <td>1</td>\n",
       "    </tr>\n",
       "    <tr>\n",
       "      <th>2</th>\n",
       "      <td>3</td>\n",
       "      <td>1.51618</td>\n",
       "      <td>13.53</td>\n",
       "      <td>3.55</td>\n",
       "      <td>1.54</td>\n",
       "      <td>72.99</td>\n",
       "      <td>0.39</td>\n",
       "      <td>7.78</td>\n",
       "      <td>0.0</td>\n",
       "      <td>0.0</td>\n",
       "      <td>1</td>\n",
       "    </tr>\n",
       "    <tr>\n",
       "      <th>3</th>\n",
       "      <td>4</td>\n",
       "      <td>1.51766</td>\n",
       "      <td>13.21</td>\n",
       "      <td>3.69</td>\n",
       "      <td>1.29</td>\n",
       "      <td>72.61</td>\n",
       "      <td>0.57</td>\n",
       "      <td>8.22</td>\n",
       "      <td>0.0</td>\n",
       "      <td>0.0</td>\n",
       "      <td>1</td>\n",
       "    </tr>\n",
       "    <tr>\n",
       "      <th>4</th>\n",
       "      <td>5</td>\n",
       "      <td>1.51742</td>\n",
       "      <td>13.27</td>\n",
       "      <td>3.62</td>\n",
       "      <td>1.24</td>\n",
       "      <td>73.08</td>\n",
       "      <td>0.55</td>\n",
       "      <td>8.07</td>\n",
       "      <td>0.0</td>\n",
       "      <td>0.0</td>\n",
       "      <td>1</td>\n",
       "    </tr>\n",
       "  </tbody>\n",
       "</table>\n",
       "</div>"
      ],
      "text/plain": [
       "   Id       RI     Na    Mg    Al    Si      K    Ca   Ba   Fe  Type\n",
       "0   1  1.52101  13.64  4.49  1.10  71.78  0.06  8.75  0.0  0.0     1\n",
       "1   2  1.51761  13.89  3.60  1.36  72.73  0.48  7.83  0.0  0.0     1\n",
       "2   3  1.51618  13.53  3.55  1.54  72.99  0.39  7.78  0.0  0.0     1\n",
       "3   4  1.51766  13.21  3.69  1.29  72.61  0.57  8.22  0.0  0.0     1\n",
       "4   5  1.51742  13.27  3.62  1.24  73.08  0.55  8.07  0.0  0.0     1"
      ]
     },
     "execution_count": 2,
     "metadata": {},
     "output_type": "execute_result"
    }
   ],
   "source": [
    "import pandas as pd\n",
    "data=pd.read_csv('glass.csv')\n",
    "data.head()"
   ]
  },
  {
   "cell_type": "code",
   "execution_count": 3,
   "id": "67e8d642",
   "metadata": {
    "id": "67e8d642"
   },
   "outputs": [],
   "source": [
    "x=data.drop('Type',axis=1)\n",
    "y=data.Type"
   ]
  },
  {
   "cell_type": "code",
   "execution_count": 4,
   "id": "18a16b6a",
   "metadata": {
    "id": "18a16b6a",
    "scrolled": true
   },
   "outputs": [],
   "source": [
    "from sklearn.model_selection import train_test_split\n",
    "x_train,x_test,y_train,y_test=train_test_split(x,y,test_size=0.2, random_state = 101)"
   ]
  },
  {
   "cell_type": "code",
   "execution_count": 5,
   "id": "20bdfde7",
   "metadata": {
    "id": "20bdfde7"
   },
   "outputs": [],
   "source": [
    "model1=SVC(kernel='sigmoid')\n",
    "model2=SVC(kernel='poly')\n",
    "model3=SVC(kernel='rbf')"
   ]
  },
  {
   "cell_type": "code",
   "execution_count": 6,
   "id": "458add50",
   "metadata": {
    "colab": {
     "base_uri": "https://localhost:8080/"
    },
    "id": "458add50",
    "outputId": "74ac8414-d592-44df-d9e9-59e5767a4d63"
   },
   "outputs": [
    {
     "data": {
      "text/plain": [
       "SVC()"
      ]
     },
     "execution_count": 6,
     "metadata": {},
     "output_type": "execute_result"
    }
   ],
   "source": [
    "model1.fit(x_train,y_train)\n",
    "model2.fit(x_train,y_train)\n",
    "model3.fit(x_train,y_train)"
   ]
  },
  {
   "cell_type": "code",
   "execution_count": 7,
   "id": "a1ca08b4",
   "metadata": {
    "id": "a1ca08b4"
   },
   "outputs": [],
   "source": [
    "y_pred1=model1.predict(x_test)"
   ]
  },
  {
   "cell_type": "code",
   "execution_count": 8,
   "id": "4ea7f731",
   "metadata": {
    "id": "4ea7f731"
   },
   "outputs": [],
   "source": [
    "y_pred2=model2.predict(x_test)"
   ]
  },
  {
   "cell_type": "code",
   "execution_count": 9,
   "id": "f5b1c8f9",
   "metadata": {
    "id": "f5b1c8f9"
   },
   "outputs": [],
   "source": [
    "y_pred3=model3.predict(x_test)"
   ]
  },
  {
   "cell_type": "code",
   "execution_count": 10,
   "id": "25ea43e5",
   "metadata": {},
   "outputs": [
    {
     "name": "stdout",
     "output_type": "stream",
     "text": [
      "Evaluation of Model 1 Sigmoid: \n",
      "[[14  4  0  0  0  0]\n",
      " [ 0 10  0  0  0  0]\n",
      " [ 0  6  0  0  0  0]\n",
      " [ 0  4  0  0  0  0]\n",
      " [ 0  2  0  0  0  0]\n",
      " [ 0  3  0  0  0  0]]\n",
      "              precision    recall  f1-score   support\n",
      "\n",
      "           1       1.00      0.78      0.88        18\n",
      "           2       0.34      1.00      0.51        10\n",
      "           3       0.00      0.00      0.00         6\n",
      "           5       0.00      0.00      0.00         4\n",
      "           6       0.00      0.00      0.00         2\n",
      "           7       0.00      0.00      0.00         3\n",
      "\n",
      "    accuracy                           0.56        43\n",
      "   macro avg       0.22      0.30      0.23        43\n",
      "weighted avg       0.50      0.56      0.49        43\n",
      "\n"
     ]
    }
   ],
   "source": [
    "print(\"Evaluation of Model 1 Sigmoid: \")\n",
    "print(confusion_matrix(y_test,y_pred1))\n",
    "print(classification_report(y_test,y_pred1))"
   ]
  },
  {
   "cell_type": "code",
   "execution_count": 11,
   "id": "ac54fc32",
   "metadata": {
    "colab": {
     "base_uri": "https://localhost:8080/"
    },
    "id": "ac54fc32",
    "outputId": "2fcc9417-aaa6-4816-bcb6-f816d2d56be0"
   },
   "outputs": [
    {
     "name": "stdout",
     "output_type": "stream",
     "text": [
      "Evaluation of Model 2 Polynomial: \n",
      "[[18  0  0  0  0  0]\n",
      " [ 0 10  0  0  0  0]\n",
      " [ 0  0  6  0  0  0]\n",
      " [ 0  0  0  4  0  0]\n",
      " [ 0  0  0  0  1  1]\n",
      " [ 0  0  0  0  0  3]]\n",
      "              precision    recall  f1-score   support\n",
      "\n",
      "           1       1.00      1.00      1.00        18\n",
      "           2       1.00      1.00      1.00        10\n",
      "           3       1.00      1.00      1.00         6\n",
      "           5       1.00      1.00      1.00         4\n",
      "           6       1.00      0.50      0.67         2\n",
      "           7       0.75      1.00      0.86         3\n",
      "\n",
      "    accuracy                           0.98        43\n",
      "   macro avg       0.96      0.92      0.92        43\n",
      "weighted avg       0.98      0.98      0.97        43\n",
      "\n"
     ]
    }
   ],
   "source": [
    "print(\"Evaluation of Model 2 Polynomial: \")\n",
    "print(confusion_matrix(y_test,y_pred2))\n",
    "print(classification_report(y_test,y_pred2))"
   ]
  },
  {
   "cell_type": "code",
   "execution_count": 12,
   "id": "f9459e8a",
   "metadata": {
    "colab": {
     "base_uri": "https://localhost:8080/"
    },
    "id": "f9459e8a",
    "outputId": "9a05bc6a-f511-44d6-dc4b-aaee9ac4d3b6"
   },
   "outputs": [
    {
     "name": "stdout",
     "output_type": "stream",
     "text": [
      "Evaluation of Model 3 RBF: \n",
      "[[17  1  0  0  0  0]\n",
      " [ 0 10  0  0  0  0]\n",
      " [ 0  6  0  0  0  0]\n",
      " [ 0  1  0  0  0  3]\n",
      " [ 0  0  0  0  0  2]\n",
      " [ 0  0  0  0  0  3]]\n",
      "              precision    recall  f1-score   support\n",
      "\n",
      "           1       1.00      0.94      0.97        18\n",
      "           2       0.56      1.00      0.71        10\n",
      "           3       0.00      0.00      0.00         6\n",
      "           5       0.00      0.00      0.00         4\n",
      "           6       0.00      0.00      0.00         2\n",
      "           7       0.38      1.00      0.55         3\n",
      "\n",
      "    accuracy                           0.70        43\n",
      "   macro avg       0.32      0.49      0.37        43\n",
      "weighted avg       0.57      0.70      0.61        43\n",
      "\n"
     ]
    }
   ],
   "source": [
    "print(\"Evaluation of Model 3 RBF: \")\n",
    "print(confusion_matrix(y_test,y_pred3))\n",
    "print(classification_report(y_test,y_pred3))"
   ]
  },
  {
   "cell_type": "code",
   "execution_count": null,
   "id": "672af9bf",
   "metadata": {
    "id": "672af9bf"
   },
   "outputs": [],
   "source": []
  }
 ],
 "metadata": {
  "colab": {
   "name": "ML Lab 08 (SVM).ipynb",
   "provenance": []
  },
  "kernelspec": {
   "display_name": "Python 3 (ipykernel)",
   "language": "python",
   "name": "python3"
  },
  "language_info": {
   "codemirror_mode": {
    "name": "ipython",
    "version": 3
   },
   "file_extension": ".py",
   "mimetype": "text/x-python",
   "name": "python",
   "nbconvert_exporter": "python",
   "pygments_lexer": "ipython3",
   "version": "3.9.0"
  }
 },
 "nbformat": 4,
 "nbformat_minor": 5
}
