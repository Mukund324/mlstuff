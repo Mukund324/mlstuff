{
 "cells": [
  {
   "cell_type": "code",
   "execution_count": null,
   "metadata": {},
   "outputs": [],
   "source": [
    "# Linear Regression "
   ]
  },
  {
   "cell_type": "code",
   "execution_count": 1,
   "metadata": {},
   "outputs": [],
   "source": [
    "import pandas as pd \n",
    "from matplotlib import pyplot as plt\n",
    "import seaborn as sns"
   ]
  },
  {
   "cell_type": "code",
   "execution_count": 2,
   "metadata": {},
   "outputs": [],
   "source": [
    "df = pd.read_csv(\"/home/root1//LinearReg/Food-Truck-LineReg.csv\",header=None)"
   ]
  },
  {
   "cell_type": "code",
   "execution_count": 3,
   "metadata": {},
   "outputs": [
    {
     "data": {
      "text/html": [
       "<div>\n",
       "<style scoped>\n",
       "    .dataframe tbody tr th:only-of-type {\n",
       "        vertical-align: middle;\n",
       "    }\n",
       "\n",
       "    .dataframe tbody tr th {\n",
       "        vertical-align: top;\n",
       "    }\n",
       "\n",
       "    .dataframe thead th {\n",
       "        text-align: right;\n",
       "    }\n",
       "</style>\n",
       "<table border=\"1\" class=\"dataframe\">\n",
       "  <thead>\n",
       "    <tr style=\"text-align: right;\">\n",
       "      <th></th>\n",
       "      <th>0</th>\n",
       "      <th>1</th>\n",
       "    </tr>\n",
       "  </thead>\n",
       "  <tbody>\n",
       "    <tr>\n",
       "      <th>0</th>\n",
       "      <td>6.1101</td>\n",
       "      <td>17.59200</td>\n",
       "    </tr>\n",
       "    <tr>\n",
       "      <th>1</th>\n",
       "      <td>5.5277</td>\n",
       "      <td>9.13020</td>\n",
       "    </tr>\n",
       "    <tr>\n",
       "      <th>2</th>\n",
       "      <td>8.5186</td>\n",
       "      <td>13.66200</td>\n",
       "    </tr>\n",
       "    <tr>\n",
       "      <th>3</th>\n",
       "      <td>7.0032</td>\n",
       "      <td>11.85400</td>\n",
       "    </tr>\n",
       "    <tr>\n",
       "      <th>4</th>\n",
       "      <td>5.8598</td>\n",
       "      <td>6.82330</td>\n",
       "    </tr>\n",
       "    <tr>\n",
       "      <th>...</th>\n",
       "      <td>...</td>\n",
       "      <td>...</td>\n",
       "    </tr>\n",
       "    <tr>\n",
       "      <th>92</th>\n",
       "      <td>5.8707</td>\n",
       "      <td>7.20290</td>\n",
       "    </tr>\n",
       "    <tr>\n",
       "      <th>93</th>\n",
       "      <td>5.3054</td>\n",
       "      <td>1.98690</td>\n",
       "    </tr>\n",
       "    <tr>\n",
       "      <th>94</th>\n",
       "      <td>8.2934</td>\n",
       "      <td>0.14454</td>\n",
       "    </tr>\n",
       "    <tr>\n",
       "      <th>95</th>\n",
       "      <td>13.3940</td>\n",
       "      <td>9.05510</td>\n",
       "    </tr>\n",
       "    <tr>\n",
       "      <th>96</th>\n",
       "      <td>5.4369</td>\n",
       "      <td>0.61705</td>\n",
       "    </tr>\n",
       "  </tbody>\n",
       "</table>\n",
       "<p>97 rows × 2 columns</p>\n",
       "</div>"
      ],
      "text/plain": [
       "          0         1\n",
       "0    6.1101  17.59200\n",
       "1    5.5277   9.13020\n",
       "2    8.5186  13.66200\n",
       "3    7.0032  11.85400\n",
       "4    5.8598   6.82330\n",
       "..      ...       ...\n",
       "92   5.8707   7.20290\n",
       "93   5.3054   1.98690\n",
       "94   8.2934   0.14454\n",
       "95  13.3940   9.05510\n",
       "96   5.4369   0.61705\n",
       "\n",
       "[97 rows x 2 columns]"
      ]
     },
     "execution_count": 3,
     "metadata": {},
     "output_type": "execute_result"
    }
   ],
   "source": [
    "df"
   ]
  },
  {
   "cell_type": "code",
   "execution_count": null,
   "metadata": {},
   "outputs": [],
   "source": [
    "### Graph for the Extracted Data Plotted "
   ]
  },
  {
   "cell_type": "code",
   "execution_count": 4,
   "metadata": {},
   "outputs": [
    {
     "data": {
      "text/plain": [
       "<matplotlib.collections.PathCollection at 0x7f64456fdc70>"
      ]
     },
     "execution_count": 4,
     "metadata": {},
     "output_type": "execute_result"
    },
    {
     "data": {
      "image/png": "[encoded data removed]",
      "text/plain": [
       "<Figure size 432x288 with 1 Axes>"
      ]
     },
     "metadata": {
      "needs_background": "light"
     },
     "output_type": "display_data"
    }
   ],
   "source": [
    "x,y=df[0],df[1]\n",
    "plt.scatter(x,y,alpha=1)"
   ]
  },
  {
   "cell_type": "code",
   "execution_count": null,
   "metadata": {},
   "outputs": [],
   "source": [
    "### HeatMap"
   ]
  },
  {
   "cell_type": "code",
   "execution_count": 5,
   "metadata": {},
   "outputs": [
    {
     "data": {
      "image/png": "[encoded data removed]",
      "text/plain": [
       "<Figure size 432x288 with 2 Axes>"
      ]
     },
     "metadata": {
      "needs_background": "light"
     },
     "output_type": "display_data"
    }
   ],
   "source": [
    "ax = sns.heatmap(df.corr(), annot=True)"
   ]
  },
  {
   "cell_type": "code",
   "execution_count": 6,
   "metadata": {},
   "outputs": [
    {
     "data": {
      "text/plain": [
       "0.837873232526341"
      ]
     },
     "execution_count": 6,
     "metadata": {},
     "output_type": "execute_result"
    }
   ],
   "source": [
    "df[1].corr(df[0])"
   ]
  },
  {
   "cell_type": "code",
   "execution_count": 7,
   "metadata": {},
   "outputs": [],
   "source": [
    "df.columns=[\"x\",\"y\"]"
   ]
  },
  {
   "cell_type": "code",
   "execution_count": null,
   "metadata": {},
   "outputs": [],
   "source": [
    "### To Calculate the x^2 and y^2"
   ]
  },
  {
   "cell_type": "code",
   "execution_count": 8,
   "metadata": {},
   "outputs": [],
   "source": [
    "xsqr=[]\n",
    "ysqr=[]\n",
    "xy=[]\n",
    "\n",
    "for i in range (len(df)):\n",
    "    xsqr.append(round(df.x[i]**2,4))\n",
    "    ysqr.append(round(df.y[i]**2,4))\n",
    "    xy.append(round(df.x[i]*df.y[i],4))\n",
    "\n",
    "df[\"x^2\"]=xsqr\n",
    "df[\"y^2\"]=ysqr\n",
    "df[\"xy\"]=xy"
   ]
  },
  {
   "cell_type": "code",
   "execution_count": 9,
   "metadata": {},
   "outputs": [
    {
     "data": {
      "text/html": [
       "<div>\n",
       "<style scoped>\n",
       "    .dataframe tbody tr th:only-of-type {\n",
       "        vertical-align: middle;\n",
       "    }\n",
       "\n",
       "    .dataframe tbody tr th {\n",
       "        vertical-align: top;\n",
       "    }\n",
       "\n",
       "    .dataframe thead th {\n",
       "        text-align: right;\n",
       "    }\n",
       "</style>\n",
       "<table border=\"1\" class=\"dataframe\">\n",
       "  <thead>\n",
       "    <tr style=\"text-align: right;\">\n",
       "      <th></th>\n",
       "      <th>x</th>\n",
       "      <th>y</th>\n",
       "      <th>x^2</th>\n",
       "      <th>y^2</th>\n",
       "      <th>xy</th>\n",
       "    </tr>\n",
       "  </thead>\n",
       "  <tbody>\n",
       "    <tr>\n",
       "      <th>0</th>\n",
       "      <td>6.1101</td>\n",
       "      <td>17.59200</td>\n",
       "      <td>37.3333</td>\n",
       "      <td>309.4785</td>\n",
       "      <td>107.4889</td>\n",
       "    </tr>\n",
       "    <tr>\n",
       "      <th>1</th>\n",
       "      <td>5.5277</td>\n",
       "      <td>9.13020</td>\n",
       "      <td>30.5555</td>\n",
       "      <td>83.3606</td>\n",
       "      <td>50.4690</td>\n",
       "    </tr>\n",
       "    <tr>\n",
       "      <th>2</th>\n",
       "      <td>8.5186</td>\n",
       "      <td>13.66200</td>\n",
       "      <td>72.5665</td>\n",
       "      <td>186.6502</td>\n",
       "      <td>116.3811</td>\n",
       "    </tr>\n",
       "    <tr>\n",
       "      <th>3</th>\n",
       "      <td>7.0032</td>\n",
       "      <td>11.85400</td>\n",
       "      <td>49.0448</td>\n",
       "      <td>140.5173</td>\n",
       "      <td>83.0159</td>\n",
       "    </tr>\n",
       "    <tr>\n",
       "      <th>4</th>\n",
       "      <td>5.8598</td>\n",
       "      <td>6.82330</td>\n",
       "      <td>34.3373</td>\n",
       "      <td>46.5574</td>\n",
       "      <td>39.9832</td>\n",
       "    </tr>\n",
       "    <tr>\n",
       "      <th>...</th>\n",
       "      <td>...</td>\n",
       "      <td>...</td>\n",
       "      <td>...</td>\n",
       "      <td>...</td>\n",
       "      <td>...</td>\n",
       "    </tr>\n",
       "    <tr>\n",
       "      <th>92</th>\n",
       "      <td>5.8707</td>\n",
       "      <td>7.20290</td>\n",
       "      <td>34.4651</td>\n",
       "      <td>51.8818</td>\n",
       "      <td>42.2861</td>\n",
       "    </tr>\n",
       "    <tr>\n",
       "      <th>93</th>\n",
       "      <td>5.3054</td>\n",
       "      <td>1.98690</td>\n",
       "      <td>28.1473</td>\n",
       "      <td>3.9478</td>\n",
       "      <td>10.5413</td>\n",
       "    </tr>\n",
       "    <tr>\n",
       "      <th>94</th>\n",
       "      <td>8.2934</td>\n",
       "      <td>0.14454</td>\n",
       "      <td>68.7805</td>\n",
       "      <td>0.0209</td>\n",
       "      <td>1.1987</td>\n",
       "    </tr>\n",
       "    <tr>\n",
       "      <th>95</th>\n",
       "      <td>13.3940</td>\n",
       "      <td>9.05510</td>\n",
       "      <td>179.3992</td>\n",
       "      <td>81.9948</td>\n",
       "      <td>121.2840</td>\n",
       "    </tr>\n",
       "    <tr>\n",
       "      <th>96</th>\n",
       "      <td>5.4369</td>\n",
       "      <td>0.61705</td>\n",
       "      <td>29.5599</td>\n",
       "      <td>0.3808</td>\n",
       "      <td>3.3548</td>\n",
       "    </tr>\n",
       "  </tbody>\n",
       "</table>\n",
       "<p>97 rows × 5 columns</p>\n",
       "</div>"
      ],
      "text/plain": [
       "          x         y       x^2       y^2        xy\n",
       "0    6.1101  17.59200   37.3333  309.4785  107.4889\n",
       "1    5.5277   9.13020   30.5555   83.3606   50.4690\n",
       "2    8.5186  13.66200   72.5665  186.6502  116.3811\n",
       "3    7.0032  11.85400   49.0448  140.5173   83.0159\n",
       "4    5.8598   6.82330   34.3373   46.5574   39.9832\n",
       "..      ...       ...       ...       ...       ...\n",
       "92   5.8707   7.20290   34.4651   51.8818   42.2861\n",
       "93   5.3054   1.98690   28.1473    3.9478   10.5413\n",
       "94   8.2934   0.14454   68.7805    0.0209    1.1987\n",
       "95  13.3940   9.05510  179.3992   81.9948  121.2840\n",
       "96   5.4369   0.61705   29.5599    0.3808    3.3548\n",
       "\n",
       "[97 rows x 5 columns]"
      ]
     },
     "execution_count": 9,
     "metadata": {},
     "output_type": "execute_result"
    }
   ],
   "source": [
    "df"
   ]
  },
  {
   "cell_type": "code",
   "execution_count": 10,
   "metadata": {},
   "outputs": [
    {
     "name": "stdout",
     "output_type": "stream",
     "text": [
      "97\n"
     ]
    }
   ],
   "source": [
    "n=len(df)\n",
    "print (n)"
   ]
  },
  {
   "cell_type": "code",
   "execution_count": null,
   "metadata": {},
   "outputs": [],
   "source": [
    "#Standard Deviations "
   ]
  },
  {
   "cell_type": "code",
   "execution_count": 11,
   "metadata": {},
   "outputs": [],
   "source": [
    "def avg(lx):\n",
    "    sum=0\n",
    "    for it in lx:\n",
    "        sum=sum+it\n",
    "    return sum/len(lx)"
   ]
  },
  {
   "cell_type": "code",
   "execution_count": 12,
   "metadata": {},
   "outputs": [],
   "source": [
    "def sdv(xcolo):\n",
    "    temp=0\n",
    "    for it in xcolo:\n",
    "        temp = temp+(it-avg(xcolo))**2\n",
    "        \n",
    "    variance=temp/len(xcolo)\n",
    "    sdv=(variance)**(1/2)\n",
    "    return sdv"
   ]
  },
  {
   "cell_type": "code",
   "execution_count": 13,
   "metadata": {},
   "outputs": [],
   "source": [
    "sdx=sdv(df['x'])"
   ]
  },
  {
   "cell_type": "code",
   "execution_count": 14,
   "metadata": {},
   "outputs": [],
   "source": [
    "sdy=sdv(df['y'])"
   ]
  },
  {
   "cell_type": "code",
   "execution_count": 15,
   "metadata": {},
   "outputs": [
    {
     "name": "stdout",
     "output_type": "stream",
     "text": [
      "3.8498839959227156\n",
      "5.48178525707763\n"
     ]
    }
   ],
   "source": [
    "print (sdx)\n",
    "print (sdy)"
   ]
  },
  {
   "cell_type": "code",
   "execution_count": 16,
   "metadata": {},
   "outputs": [],
   "source": [
    "def summation(sums):\n",
    "    return avg(sums)*len(df)"
   ]
  },
  {
   "cell_type": "code",
   "execution_count": 17,
   "metadata": {},
   "outputs": [],
   "source": [
    "xsqured=summation(df['x^2'])\n",
    "ysqured=summation(df['y^2'])\n",
    "xy=summation(df['xy'])"
   ]
  },
  {
   "cell_type": "code",
   "execution_count": null,
   "metadata": {},
   "outputs": [],
   "source": [
    "###Regression coefficient"
   ]
  },
  {
   "cell_type": "code",
   "execution_count": 18,
   "metadata": {},
   "outputs": [],
   "source": [
    "r=xy/(xsqured*ysqured)"
   ]
  },
  {
   "cell_type": "code",
   "execution_count": 19,
   "metadata": {},
   "outputs": [
    {
     "data": {
      "text/plain": [
       "0.0001289798537942054"
      ]
     },
     "execution_count": 19,
     "metadata": {},
     "output_type": "execute_result"
    }
   ],
   "source": [
    "r"
   ]
  },
  {
   "cell_type": "code",
   "execution_count": null,
   "metadata": {},
   "outputs": [],
   "source": [
    "###Slope Calc"
   ]
  },
  {
   "cell_type": "code",
   "execution_count": 20,
   "metadata": {},
   "outputs": [],
   "source": [
    "m= r * sdy/sdx"
   ]
  },
  {
   "cell_type": "code",
   "execution_count": 21,
   "metadata": {},
   "outputs": [
    {
     "data": {
      "text/plain": [
       "0.00018365225075298524"
      ]
     },
     "execution_count": 21,
     "metadata": {},
     "output_type": "execute_result"
    }
   ],
   "source": [
    "m"
   ]
  },
  {
   "cell_type": "code",
   "execution_count": null,
   "metadata": {},
   "outputs": [],
   "source": [
    "#Linear Reg"
   ]
  },
  {
   "cell_type": "code",
   "execution_count": 22,
   "metadata": {},
   "outputs": [],
   "source": [
    "#c=y-mx\n",
    "c= avg(df['y'])-m*avg(df['x'])"
   ]
  },
  {
   "cell_type": "code",
   "execution_count": 23,
   "metadata": {},
   "outputs": [
    {
     "data": {
      "text/plain": [
       "5.8376364859106955"
      ]
     },
     "execution_count": 23,
     "metadata": {},
     "output_type": "execute_result"
    }
   ],
   "source": [
    "c"
   ]
  },
  {
   "cell_type": "code",
   "execution_count": null,
   "metadata": {},
   "outputs": [],
   "source": [
    "###Y_pred"
   ]
  },
  {
   "cell_type": "code",
   "execution_count": 24,
   "metadata": {},
   "outputs": [],
   "source": [
    "#y=mx+c\n",
    "y_predict=m*df['x']+c"
   ]
  },
  {
   "cell_type": "code",
   "execution_count": 25,
   "metadata": {},
   "outputs": [
    {
     "data": {
      "text/plain": [
       "0     5.838759\n",
       "1     5.838652\n",
       "2     5.839201\n",
       "3     5.838923\n",
       "4     5.838713\n",
       "        ...   \n",
       "92    5.838715\n",
       "93    5.838611\n",
       "94    5.839160\n",
       "95    5.840096\n",
       "96    5.838635\n",
       "Name: x, Length: 97, dtype: float64"
      ]
     },
     "execution_count": 25,
     "metadata": {},
     "output_type": "execute_result"
    }
   ],
   "source": [
    "y_predict"
   ]
  },
  {
   "cell_type": "code",
   "execution_count": 26,
   "metadata": {},
   "outputs": [],
   "source": [
    "df['y_predict']=y_predict"
   ]
  },
  {
   "cell_type": "code",
   "execution_count": 27,
   "metadata": {},
   "outputs": [
    {
     "data": {
      "text/html": [
       "<div>\n",
       "<style scoped>\n",
       "    .dataframe tbody tr th:only-of-type {\n",
       "        vertical-align: middle;\n",
       "    }\n",
       "\n",
       "    .dataframe tbody tr th {\n",
       "        vertical-align: top;\n",
       "    }\n",
       "\n",
       "    .dataframe thead th {\n",
       "        text-align: right;\n",
       "    }\n",
       "</style>\n",
       "<table border=\"1\" class=\"dataframe\">\n",
       "  <thead>\n",
       "    <tr style=\"text-align: right;\">\n",
       "      <th></th>\n",
       "      <th>x</th>\n",
       "      <th>y</th>\n",
       "      <th>x^2</th>\n",
       "      <th>y^2</th>\n",
       "      <th>xy</th>\n",
       "      <th>y_predict</th>\n",
       "    </tr>\n",
       "  </thead>\n",
       "  <tbody>\n",
       "    <tr>\n",
       "      <th>0</th>\n",
       "      <td>6.1101</td>\n",
       "      <td>17.59200</td>\n",
       "      <td>37.3333</td>\n",
       "      <td>309.4785</td>\n",
       "      <td>107.4889</td>\n",
       "      <td>5.838759</td>\n",
       "    </tr>\n",
       "    <tr>\n",
       "      <th>1</th>\n",
       "      <td>5.5277</td>\n",
       "      <td>9.13020</td>\n",
       "      <td>30.5555</td>\n",
       "      <td>83.3606</td>\n",
       "      <td>50.4690</td>\n",
       "      <td>5.838652</td>\n",
       "    </tr>\n",
       "    <tr>\n",
       "      <th>2</th>\n",
       "      <td>8.5186</td>\n",
       "      <td>13.66200</td>\n",
       "      <td>72.5665</td>\n",
       "      <td>186.6502</td>\n",
       "      <td>116.3811</td>\n",
       "      <td>5.839201</td>\n",
       "    </tr>\n",
       "    <tr>\n",
       "      <th>3</th>\n",
       "      <td>7.0032</td>\n",
       "      <td>11.85400</td>\n",
       "      <td>49.0448</td>\n",
       "      <td>140.5173</td>\n",
       "      <td>83.0159</td>\n",
       "      <td>5.838923</td>\n",
       "    </tr>\n",
       "    <tr>\n",
       "      <th>4</th>\n",
       "      <td>5.8598</td>\n",
       "      <td>6.82330</td>\n",
       "      <td>34.3373</td>\n",
       "      <td>46.5574</td>\n",
       "      <td>39.9832</td>\n",
       "      <td>5.838713</td>\n",
       "    </tr>\n",
       "    <tr>\n",
       "      <th>...</th>\n",
       "      <td>...</td>\n",
       "      <td>...</td>\n",
       "      <td>...</td>\n",
       "      <td>...</td>\n",
       "      <td>...</td>\n",
       "      <td>...</td>\n",
       "    </tr>\n",
       "    <tr>\n",
       "      <th>92</th>\n",
       "      <td>5.8707</td>\n",
       "      <td>7.20290</td>\n",
       "      <td>34.4651</td>\n",
       "      <td>51.8818</td>\n",
       "      <td>42.2861</td>\n",
       "      <td>5.838715</td>\n",
       "    </tr>\n",
       "    <tr>\n",
       "      <th>93</th>\n",
       "      <td>5.3054</td>\n",
       "      <td>1.98690</td>\n",
       "      <td>28.1473</td>\n",
       "      <td>3.9478</td>\n",
       "      <td>10.5413</td>\n",
       "      <td>5.838611</td>\n",
       "    </tr>\n",
       "    <tr>\n",
       "      <th>94</th>\n",
       "      <td>8.2934</td>\n",
       "      <td>0.14454</td>\n",
       "      <td>68.7805</td>\n",
       "      <td>0.0209</td>\n",
       "      <td>1.1987</td>\n",
       "      <td>5.839160</td>\n",
       "    </tr>\n",
       "    <tr>\n",
       "      <th>95</th>\n",
       "      <td>13.3940</td>\n",
       "      <td>9.05510</td>\n",
       "      <td>179.3992</td>\n",
       "      <td>81.9948</td>\n",
       "      <td>121.2840</td>\n",
       "      <td>5.840096</td>\n",
       "    </tr>\n",
       "    <tr>\n",
       "      <th>96</th>\n",
       "      <td>5.4369</td>\n",
       "      <td>0.61705</td>\n",
       "      <td>29.5599</td>\n",
       "      <td>0.3808</td>\n",
       "      <td>3.3548</td>\n",
       "      <td>5.838635</td>\n",
       "    </tr>\n",
       "  </tbody>\n",
       "</table>\n",
       "<p>97 rows × 6 columns</p>\n",
       "</div>"
      ],
      "text/plain": [
       "          x         y       x^2       y^2        xy  y_predict\n",
       "0    6.1101  17.59200   37.3333  309.4785  107.4889   5.838759\n",
       "1    5.5277   9.13020   30.5555   83.3606   50.4690   5.838652\n",
       "2    8.5186  13.66200   72.5665  186.6502  116.3811   5.839201\n",
       "3    7.0032  11.85400   49.0448  140.5173   83.0159   5.838923\n",
       "4    5.8598   6.82330   34.3373   46.5574   39.9832   5.838713\n",
       "..      ...       ...       ...       ...       ...        ...\n",
       "92   5.8707   7.20290   34.4651   51.8818   42.2861   5.838715\n",
       "93   5.3054   1.98690   28.1473    3.9478   10.5413   5.838611\n",
       "94   8.2934   0.14454   68.7805    0.0209    1.1987   5.839160\n",
       "95  13.3940   9.05510  179.3992   81.9948  121.2840   5.840096\n",
       "96   5.4369   0.61705   29.5599    0.3808    3.3548   5.838635\n",
       "\n",
       "[97 rows x 6 columns]"
      ]
     },
     "execution_count": 27,
     "metadata": {},
     "output_type": "execute_result"
    }
   ],
   "source": [
    "df"
   ]
  },
  {
   "cell_type": "code",
   "execution_count": null,
   "metadata": {},
   "outputs": [],
   "source": [
    "#Gradient"
   ]
  },
  {
   "cell_type": "code",
   "execution_count": 28,
   "metadata": {},
   "outputs": [],
   "source": [
    "l_rate=0.001"
   ]
  },
  {
   "cell_type": "code",
   "execution_count": 29,
   "metadata": {},
   "outputs": [],
   "source": [
    "def grad_des(m, c):\n",
    "    pred = []\n",
    "    m_sum=0\n",
    "    c_sum=0\n",
    "    \n",
    "    for X in x:\n",
    "        pred.append(m * X + c)\n",
    "        \n",
    "    for i in range(len(df)):\n",
    "        m_sum += df.x[i]*(df.y[i]-pred[i])\n",
    "        c_sum += df.y[i]-pred[i]\n",
    "        \n",
    "    m_grad = (-2 / n) * m_sum\n",
    "    c_grad = (-2 / n) * c_sum\n",
    "\n",
    "    m -= (l_rate * m_grad)\n",
    "    c -= (l_rate * c_grad)\n",
    "\n",
    "    return m, c, pred"
   ]
  },
  {
   "cell_type": "code",
   "execution_count": 30,
   "metadata": {},
   "outputs": [
    {
     "name": "stdout",
     "output_type": "stream",
     "text": [
      "[3.496141277534441, 2.816827924672086, 6.305423918964699, 4.537856173553276, 3.2041905010553076, 6.147142974625032, 5.08979827275394, 6.374824922562416, 3.9348256044773184, 2.265002465813603, 3.0302797508633827, 12.89023779645292, 3.0574569505915634, 6.176886261881197, 2.948631511336657, 2.6438502972176097, 3.793924071122627, 2.3530659241602856, 3.8688071708028517, 4.616705044867658, 3.5882871478574594, 20.01229709002699, 2.7729711560120163, 3.74808441664548, 2.8602181319634314, 18.46681255612826, 11.331922824914274, 9.149582022707088, 11.73783121570428, 22.266954904386427, 2.4957170626476928, 4.055198437608148, 7.156431855517541, 3.2415154105532387, 5.946754866758013, 5.622844636521275, 5.8123851925654595, 2.90850723362638, 11.341254052288757, 3.779927230060902, 2.6759263913173945, 4.397071280540766, 10.02555099248667, 3.1037631664374348, 5.496056584570489, 4.642715841174027, 2.2831983591938454, 3.136072541221582, 10.016219765112186, 2.83304093223525, 5.16421481106544, 2.5602191718738063, 5.028562093108896, 5.237581586297313, 3.755899319571609, 3.7863424488808595, 3.687548079053522, 2.9474651079148475, 7.228748867669783, 7.396011118357388, 6.66327648877612, 2.410452972513355, 21.189198142633646, 13.75804194227983, 18.483142204033605, 4.788632909242505, 6.044732754190083, 8.308605155581818, 2.7838187078348526, 20.095111732975525, 8.191964813400782, 4.924285627199049, 3.374951962008344, 4.797614215590444, 2.2326930910294567, 4.006792695603018, 5.162348565590545, 2.243890563878836, 8.352928485610612, 2.326938487511734, 3.0518582141668733, 2.4210672436518297, 3.7826099579310655, 7.763544836569835, 3.969467786105086, 6.303790954174167, 7.077116422834434, 3.3700530676367415, 2.808313179692871, 2.2706012022382933, 3.0267805405979513, 5.27665610092796, 3.216904298353041, 2.557536444003642, 6.042749868373006, 11.992107161658941, 2.7109184939717044]\n"
     ]
    }
   ],
   "source": [
    "\n",
    "for _ in range(10000):\n",
    "    m, c, y_predict = grad_des(m, c)\n",
    "print (y_predict)"
   ]
  },
  {
   "cell_type": "code",
   "execution_count": null,
   "metadata": {},
   "outputs": [],
   "source": [
    "#pred val"
   ]
  },
  {
   "cell_type": "code",
   "execution_count": 35,
   "metadata": {},
   "outputs": [],
   "source": [
    "y_sub_y_predict=y-y_predict"
   ]
  },
  {
   "cell_type": "code",
   "execution_count": 36,
   "metadata": {},
   "outputs": [],
   "source": [
    "y_sub_y_predict_sqr = y_sub_y_predict**2"
   ]
  },
  {
   "cell_type": "code",
   "execution_count": 37,
   "metadata": {},
   "outputs": [],
   "source": [
    "df['y_sub_y_predict']=y_sub_y_predict\n",
    "df['y_sub_y_predict_sqr']=y_sub_y_predict_sqr"
   ]
  },
  {
   "cell_type": "code",
   "execution_count": 38,
   "metadata": {},
   "outputs": [
    {
     "data": {
      "text/html": [
       "<div>\n",
       "<style scoped>\n",
       "    .dataframe tbody tr th:only-of-type {\n",
       "        vertical-align: middle;\n",
       "    }\n",
       "\n",
       "    .dataframe tbody tr th {\n",
       "        vertical-align: top;\n",
       "    }\n",
       "\n",
       "    .dataframe thead th {\n",
       "        text-align: right;\n",
       "    }\n",
       "</style>\n",
       "<table border=\"1\" class=\"dataframe\">\n",
       "  <thead>\n",
       "    <tr style=\"text-align: right;\">\n",
       "      <th></th>\n",
       "      <th>x</th>\n",
       "      <th>y</th>\n",
       "      <th>x^2</th>\n",
       "      <th>y^2</th>\n",
       "      <th>xy</th>\n",
       "      <th>y_predict</th>\n",
       "      <th>y_sub_y_predict</th>\n",
       "      <th>y_sub_y_predict_sqr</th>\n",
       "    </tr>\n",
       "  </thead>\n",
       "  <tbody>\n",
       "    <tr>\n",
       "      <th>0</th>\n",
       "      <td>6.1101</td>\n",
       "      <td>17.59200</td>\n",
       "      <td>37.3333</td>\n",
       "      <td>309.4785</td>\n",
       "      <td>107.4889</td>\n",
       "      <td>5.838759</td>\n",
       "      <td>14.095859</td>\n",
       "      <td>198.693233</td>\n",
       "    </tr>\n",
       "    <tr>\n",
       "      <th>1</th>\n",
       "      <td>5.5277</td>\n",
       "      <td>9.13020</td>\n",
       "      <td>30.5555</td>\n",
       "      <td>83.3606</td>\n",
       "      <td>50.4690</td>\n",
       "      <td>5.838652</td>\n",
       "      <td>6.313372</td>\n",
       "      <td>39.858667</td>\n",
       "    </tr>\n",
       "    <tr>\n",
       "      <th>2</th>\n",
       "      <td>8.5186</td>\n",
       "      <td>13.66200</td>\n",
       "      <td>72.5665</td>\n",
       "      <td>186.6502</td>\n",
       "      <td>116.3811</td>\n",
       "      <td>5.839201</td>\n",
       "      <td>7.356576</td>\n",
       "      <td>54.119212</td>\n",
       "    </tr>\n",
       "    <tr>\n",
       "      <th>3</th>\n",
       "      <td>7.0032</td>\n",
       "      <td>11.85400</td>\n",
       "      <td>49.0448</td>\n",
       "      <td>140.5173</td>\n",
       "      <td>83.0159</td>\n",
       "      <td>5.838923</td>\n",
       "      <td>7.316144</td>\n",
       "      <td>53.525960</td>\n",
       "    </tr>\n",
       "    <tr>\n",
       "      <th>4</th>\n",
       "      <td>5.8598</td>\n",
       "      <td>6.82330</td>\n",
       "      <td>34.3373</td>\n",
       "      <td>46.5574</td>\n",
       "      <td>39.9832</td>\n",
       "      <td>5.838713</td>\n",
       "      <td>3.619109</td>\n",
       "      <td>13.097954</td>\n",
       "    </tr>\n",
       "    <tr>\n",
       "      <th>...</th>\n",
       "      <td>...</td>\n",
       "      <td>...</td>\n",
       "      <td>...</td>\n",
       "      <td>...</td>\n",
       "      <td>...</td>\n",
       "      <td>...</td>\n",
       "      <td>...</td>\n",
       "      <td>...</td>\n",
       "    </tr>\n",
       "    <tr>\n",
       "      <th>92</th>\n",
       "      <td>5.8707</td>\n",
       "      <td>7.20290</td>\n",
       "      <td>34.4651</td>\n",
       "      <td>51.8818</td>\n",
       "      <td>42.2861</td>\n",
       "      <td>5.838715</td>\n",
       "      <td>3.985996</td>\n",
       "      <td>15.888162</td>\n",
       "    </tr>\n",
       "    <tr>\n",
       "      <th>93</th>\n",
       "      <td>5.3054</td>\n",
       "      <td>1.98690</td>\n",
       "      <td>28.1473</td>\n",
       "      <td>3.9478</td>\n",
       "      <td>10.5413</td>\n",
       "      <td>5.838611</td>\n",
       "      <td>-0.570636</td>\n",
       "      <td>0.325626</td>\n",
       "    </tr>\n",
       "    <tr>\n",
       "      <th>94</th>\n",
       "      <td>8.2934</td>\n",
       "      <td>0.14454</td>\n",
       "      <td>68.7805</td>\n",
       "      <td>0.0209</td>\n",
       "      <td>1.1987</td>\n",
       "      <td>5.839160</td>\n",
       "      <td>-5.898210</td>\n",
       "      <td>34.788880</td>\n",
       "    </tr>\n",
       "    <tr>\n",
       "      <th>95</th>\n",
       "      <td>13.3940</td>\n",
       "      <td>9.05510</td>\n",
       "      <td>179.3992</td>\n",
       "      <td>81.9948</td>\n",
       "      <td>121.2840</td>\n",
       "      <td>5.840096</td>\n",
       "      <td>-2.937007</td>\n",
       "      <td>8.626011</td>\n",
       "    </tr>\n",
       "    <tr>\n",
       "      <th>96</th>\n",
       "      <td>5.4369</td>\n",
       "      <td>0.61705</td>\n",
       "      <td>29.5599</td>\n",
       "      <td>0.3808</td>\n",
       "      <td>3.3548</td>\n",
       "      <td>5.838635</td>\n",
       "      <td>-2.093868</td>\n",
       "      <td>4.384285</td>\n",
       "    </tr>\n",
       "  </tbody>\n",
       "</table>\n",
       "<p>97 rows × 8 columns</p>\n",
       "</div>"
      ],
      "text/plain": [
       "          x         y       x^2       y^2        xy  y_predict  \\\n",
       "0    6.1101  17.59200   37.3333  309.4785  107.4889   5.838759   \n",
       "1    5.5277   9.13020   30.5555   83.3606   50.4690   5.838652   \n",
       "2    8.5186  13.66200   72.5665  186.6502  116.3811   5.839201   \n",
       "3    7.0032  11.85400   49.0448  140.5173   83.0159   5.838923   \n",
       "4    5.8598   6.82330   34.3373   46.5574   39.9832   5.838713   \n",
       "..      ...       ...       ...       ...       ...        ...   \n",
       "92   5.8707   7.20290   34.4651   51.8818   42.2861   5.838715   \n",
       "93   5.3054   1.98690   28.1473    3.9478   10.5413   5.838611   \n",
       "94   8.2934   0.14454   68.7805    0.0209    1.1987   5.839160   \n",
       "95  13.3940   9.05510  179.3992   81.9948  121.2840   5.840096   \n",
       "96   5.4369   0.61705   29.5599    0.3808    3.3548   5.838635   \n",
       "\n",
       "    y_sub_y_predict  y_sub_y_predict_sqr  \n",
       "0         14.095859           198.693233  \n",
       "1          6.313372            39.858667  \n",
       "2          7.356576            54.119212  \n",
       "3          7.316144            53.525960  \n",
       "4          3.619109            13.097954  \n",
       "..              ...                  ...  \n",
       "92         3.985996            15.888162  \n",
       "93        -0.570636             0.325626  \n",
       "94        -5.898210            34.788880  \n",
       "95        -2.937007             8.626011  \n",
       "96        -2.093868             4.384285  \n",
       "\n",
       "[97 rows x 8 columns]"
      ]
     },
     "execution_count": 38,
     "metadata": {},
     "output_type": "execute_result"
    }
   ],
   "source": [
    "df"
   ]
  },
  {
   "cell_type": "code",
   "execution_count": null,
   "metadata": {},
   "outputs": [],
   "source": [
    "#SSE"
   ]
  },
  {
   "cell_type": "code",
   "execution_count": 39,
   "metadata": {},
   "outputs": [],
   "source": [
    "SSE = summation(df['y_sub_y_predict_sqr'])"
   ]
  },
  {
   "cell_type": "code",
   "execution_count": 40,
   "metadata": {},
   "outputs": [
    {
     "data": {
      "text/plain": [
       "869.773490731888"
      ]
     },
     "execution_count": 40,
     "metadata": {},
     "output_type": "execute_result"
    }
   ],
   "source": [
    "SSE"
   ]
  },
  {
   "cell_type": "code",
   "execution_count": null,
   "metadata": {},
   "outputs": [],
   "source": [
    "#SST"
   ]
  },
  {
   "cell_type": "code",
   "execution_count": 41,
   "metadata": {},
   "outputs": [],
   "source": [
    "a=avg(df['y'])\n",
    "SST=summation((y-a)**2)"
   ]
  },
  {
   "cell_type": "code",
   "execution_count": 49,
   "metadata": {},
   "outputs": [
    {
     "data": {
      "text/plain": [
       "2914.8470516572247"
      ]
     },
     "execution_count": 49,
     "metadata": {},
     "output_type": "execute_result"
    }
   ],
   "source": [
    "SST"
   ]
  },
  {
   "cell_type": "code",
   "execution_count": null,
   "metadata": {},
   "outputs": [],
   "source": [
    "#SSR"
   ]
  },
  {
   "cell_type": "code",
   "execution_count": 51,
   "metadata": {
    "scrolled": true
   },
   "outputs": [],
   "source": [
    "SSR = summation((y_predict-avg(y_predict))**2)"
   ]
  },
  {
   "cell_type": "code",
   "execution_count": 52,
   "metadata": {},
   "outputs": [
    {
     "data": {
      "text/plain": [
       "1955.9808187353779"
      ]
     },
     "execution_count": 52,
     "metadata": {},
     "output_type": "execute_result"
    }
   ],
   "source": [
    "SSR"
   ]
  },
  {
   "cell_type": "code",
   "execution_count": null,
   "metadata": {},
   "outputs": [],
   "source": [
    "####Square of Coefficent"
   ]
  },
  {
   "cell_type": "code",
   "execution_count": 53,
   "metadata": {},
   "outputs": [],
   "source": [
    "rsqr = 1-(SSE/SST)"
   ]
  },
  {
   "cell_type": "code",
   "execution_count": 54,
   "metadata": {},
   "outputs": [
    {
     "data": {
      "text/plain": [
       "0.7016057874332097"
      ]
     },
     "execution_count": 54,
     "metadata": {},
     "output_type": "execute_result"
    }
   ],
   "source": [
    "rsqr"
   ]
  },
  {
   "cell_type": "code",
   "execution_count": null,
   "metadata": {},
   "outputs": [],
   "source": [
    "#Plotting "
   ]
  },
  {
   "cell_type": "code",
   "execution_count": 56,
   "metadata": {},
   "outputs": [
    {
     "data": {
      "text/plain": [
       "[<matplotlib.lines.Line2D at 0x7f64427eecd0>]"
      ]
     },
     "execution_count": 56,
     "metadata": {},
     "output_type": "execute_result"
    },
    {
     "data": {
      "image/png": "[encoded data removed]",
      "text/plain": [
       "<Figure size 432x288 with 1 Axes>"
      ]
     },
     "metadata": {
      "needs_background": "light"
     },
     "output_type": "display_data"
    }
   ],
   "source": [
    "plt.scatter(x,y,alpha=0.7)\n",
    "plt.plot(x,y_predict,color='red')"
   ]
  }
 ],
 "metadata": {
  "kernelspec": {
   "display_name": "Python 3 (ipykernel)",
   "language": "python",
   "name": "python3"
  },
  "language_info": {
   "codemirror_mode": {
    "name": "ipython",
    "version": 3
   },
   "file_extension": ".py",
   "mimetype": "text/x-python",
   "name": "python",
   "nbconvert_exporter": "python",
   "pygments_lexer": "ipython3",
   "version": "3.9.7"
  }
 },
 "nbformat": 4,
 "nbformat_minor": 4
}
